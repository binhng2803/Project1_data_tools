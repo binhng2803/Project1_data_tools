{
 "cells": [
  {
   "cell_type": "code",
   "execution_count": 1,
   "metadata": {},
   "outputs": [
    {
     "data": {
      "text/plain": [
       "'https://i.pinimg.com/originals/28/1e/ba/281eba5cc89d72766c2c515e47d6f79d.jpg\\n'"
      ]
     },
     "execution_count": 1,
     "metadata": {},
     "output_type": "execute_result"
    }
   ],
   "source": [
    "with open('C:\\Workspace\\Aimesoft\\Building\\Project1_data_tools\\data\\img_links2.txt', 'r') as f:\n",
    "    all_links = f.readlines()\n",
    "all_links[-1]"
   ]
  },
  {
   "cell_type": "code",
   "execution_count": 2,
   "metadata": {},
   "outputs": [],
   "source": [
    "links = [link[:-1] for link in all_links]"
   ]
  },
  {
   "cell_type": "code",
   "execution_count": 3,
   "metadata": {},
   "outputs": [
    {
     "name": "stderr",
     "output_type": "stream",
     "text": [
      "100%|██████████| 465/465 [06:11<00:00,  1.25it/s]"
     ]
    },
    {
     "name": "stdout",
     "output_type": "stream",
     "text": [
      "391\n",
      "Download fail: 74\n"
     ]
    },
    {
     "name": "stderr",
     "output_type": "stream",
     "text": [
      "\n"
     ]
    }
   ],
   "source": [
    "import os\n",
    "import requests\n",
    "from tqdm import tqdm\n",
    "save_dir = 'C:\\Workspace\\Aimesoft\\Building\\Project1_data_tools\\data\\org_images2'\n",
    "download_fail = 0\n",
    "for link in tqdm(links):\n",
    "    response = requests.get(link)\n",
    "    if response.status_code == 200:\n",
    "        image_name = link.split('/')[-1]\n",
    "        image_path = save_dir + \"\\\\\" + image_name\n",
    "        with open(image_path, 'wb') as f:\n",
    "            f.write(response.content)\n",
    "    else:\n",
    "        download_fail += 1\n",
    "    # try:\n",
    "    #     command = 'wget -O {image_path} {link}'\n",
    "    #     os.system(command)\n",
    "    #     print('downloaded')\n",
    "    # except:\n",
    "    #     download_fail += 1\n",
    "    #     continue\n",
    "print(len(os.listdir(save_dir)))\n",
    "print('Download fail:', download_fail)\n"
   ]
  },
  {
   "cell_type": "code",
   "execution_count": 10,
   "metadata": {},
   "outputs": [
    {
     "data": {
      "text/plain": [
       "[]"
      ]
     },
     "execution_count": 10,
     "metadata": {},
     "output_type": "execute_result"
    }
   ],
   "source": [
    "os.listdir(save_dir)"
   ]
  },
  {
   "cell_type": "code",
   "execution_count": 31,
   "metadata": {},
   "outputs": [
    {
     "data": {
      "text/plain": [
       "'C:\\\\Workspace\\\\Aimesoft\\\\Building\\\\Project1_data_tools\\\\data\\\\org_images\\\\adas'"
      ]
     },
     "execution_count": 31,
     "metadata": {},
     "output_type": "execute_result"
    }
   ],
   "source": [
    "save_dir+'\\\\'+'adas'"
   ]
  },
  {
   "cell_type": "code",
   "execution_count": null,
   "metadata": {},
   "outputs": [],
   "source": []
  }
 ],
 "metadata": {
  "kernelspec": {
   "display_name": "ady",
   "language": "python",
   "name": "python3"
  },
  "language_info": {
   "codemirror_mode": {
    "name": "ipython",
    "version": 3
   },
   "file_extension": ".py",
   "mimetype": "text/x-python",
   "name": "python",
   "nbconvert_exporter": "python",
   "pygments_lexer": "ipython3",
   "version": "3.10.12"
  }
 },
 "nbformat": 4,
 "nbformat_minor": 2
}
